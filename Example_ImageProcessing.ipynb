{
  "nbformat": 4,
  "nbformat_minor": 0,
  "metadata": {
    "colab": {
      "name": "Example_ImageProcessing.ipynb",
      "provenance": [],
      "collapsed_sections": [],
      "include_colab_link": true
    },
    "kernelspec": {
      "name": "python3",
      "display_name": "Python 3"
    }
  },
  "cells": [
    {
      "cell_type": "markdown",
      "metadata": {
        "id": "view-in-github",
        "colab_type": "text"
      },
      "source": [
        "<a href=\"https://colab.research.google.com/github/nlbtoan/AI-practis/blob/master/Example_ImageProcessing.ipynb\" target=\"_parent\"><img src=\"https://colab.research.google.com/assets/colab-badge.svg\" alt=\"Open In Colab\"/></a>"
      ]
    },
    {
      "cell_type": "code",
      "metadata": {
        "id": "KP8IBwak8eqp",
        "colab_type": "code",
        "colab": {
          "base_uri": "https://localhost:8080/",
          "height": 51
        },
        "outputId": "2d500d10-757d-4ed1-c121-783a3b98345f"
      },
      "source": [
        "from google_drive_downloader import GoogleDriveDownloader as gdd\n",
        "gdd.download_file_from_google_drive(file_id='1I1hXBJX06qg8YI7F87xGRLKZCBE_aEDC', dest_path='./Image.zip', unzip=True)\n",
        "!rm Image.zip"
      ],
      "execution_count": null,
      "outputs": [
        {
          "output_type": "stream",
          "text": [
            "Downloading 1I1hXBJX06qg8YI7F87xGRLKZCBE_aEDC into ./Image.zip... Done.\n",
            "Unzipping...Done.\n"
          ],
          "name": "stdout"
        }
      ]
    },
    {
      "cell_type": "code",
      "metadata": {
        "id": "Om3wXOdd-LPR",
        "colab_type": "code",
        "colab": {}
      },
      "source": [
        "import numpy as np\n",
        "import cv2\n",
        "from matplotlib import pyplot as plt\n",
        "import matplotlib.image as mpimg\n",
        "%matplotlib inline"
      ],
      "execution_count": null,
      "outputs": []
    },
    {
      "cell_type": "markdown",
      "metadata": {
        "id": "vM-DcH-o9-qJ",
        "colab_type": "text"
      },
      "source": [
        "# 1. Histogram"
      ]
    },
    {
      "cell_type": "code",
      "metadata": {
        "id": "iZ-btcoV-BMk",
        "colab_type": "code",
        "colab": {}
      },
      "source": [
        "img = cv2.imread('Image/tiger.jpeg')\n",
        "\n",
        "def showbgr(img):\n",
        "    plt.imshow(img[...,[2,1,0]])\n",
        "    plt.axis('off')\n",
        "    plt.show()\n",
        "\n",
        "def showgray(img):\n",
        "    plt.imshow(img[...],cmap='gray')\n",
        "    plt.axis('off')\n",
        "    plt.show()\n",
        "\n",
        "showbgr(img)"
      ],
      "execution_count": null,
      "outputs": []
    },
    {
      "cell_type": "code",
      "metadata": {
        "id": "7v7H8LvH-zYA",
        "colab_type": "code",
        "colab": {}
      },
      "source": [
        "def plot_hist(img, colors='bgr'):\n",
        "    for i,col in enumerate(colors):\n",
        "        histr = cv2.calcHist([img],[i],None,[256],[0,256])\n",
        "        plt.plot(histr,color = col)\n",
        "        plt.xlim([0,256])\n",
        "        plt.ylim([0,600])\n",
        "    plt.show()\n",
        "\n",
        "plot_hist(img, 'bgr')"
      ],
      "execution_count": null,
      "outputs": []
    },
    {
      "cell_type": "code",
      "metadata": {
        "id": "F7mv29Rh_ux6",
        "colab_type": "code",
        "colab": {}
      },
      "source": [
        "gray = cv2.cvtColor(img,cv2.COLOR_BGR2GRAY)\n",
        "showgray(gray)\n",
        "equ = cv2.equalizeHist(gray)\n",
        "showgray(equ)"
      ],
      "execution_count": null,
      "outputs": []
    },
    {
      "cell_type": "code",
      "metadata": {
        "id": "BIX7H-sbAdeY",
        "colab_type": "code",
        "colab": {}
      },
      "source": [
        "plot_hist(gray,'k')\n",
        "plot_hist(equ,'k')"
      ],
      "execution_count": null,
      "outputs": []
    },
    {
      "cell_type": "markdown",
      "metadata": {
        "id": "gV6Pt38YAyFP",
        "colab_type": "text"
      },
      "source": [
        "# Affine transformation\n"
      ]
    },
    {
      "cell_type": "code",
      "metadata": {
        "id": "PzB0Leb0Aw0H",
        "colab_type": "code",
        "colab": {}
      },
      "source": [
        "img = cv2.imread('Image/meo.jpeg')\n",
        "showbgr(img)\n",
        "img.shape"
      ],
      "execution_count": null,
      "outputs": []
    },
    {
      "cell_type": "code",
      "metadata": {
        "id": "pwhS61CEEaHM",
        "colab_type": "code",
        "colab": {}
      },
      "source": [
        "res = cv2.resize(img,None,fx=2, fy=2, interpolation = cv2.INTER_CUBIC)\n",
        "showbgr(res)\n",
        "res.shape"
      ],
      "execution_count": null,
      "outputs": []
    },
    {
      "cell_type": "code",
      "metadata": {
        "id": "o3RmjkcEE96H",
        "colab_type": "code",
        "colab": {}
      },
      "source": [
        "rows = img.shape[0]\n",
        "cols = img.shape[1]\n",
        "M    = np.float32([[1,0,100],[0,1,200]])\n",
        "dst  = cv2.warpAffine(img,M,(cols,rows))\n",
        "showbgr(dst)"
      ],
      "execution_count": null,
      "outputs": []
    },
    {
      "cell_type": "markdown",
      "metadata": {
        "id": "dX5D0UrDGvqi",
        "colab_type": "text"
      },
      "source": [
        "# Blur and sharpen"
      ]
    },
    {
      "cell_type": "code",
      "metadata": {
        "id": "GrKxjDWgGvEB",
        "colab_type": "code",
        "colab": {}
      },
      "source": [
        "img = cv2.imread('Image/noise1.jpg')\n",
        "showbgr(img)"
      ],
      "execution_count": null,
      "outputs": []
    },
    {
      "cell_type": "code",
      "metadata": {
        "id": "Y1mtDMbFHe_4",
        "colab_type": "code",
        "colab": {}
      },
      "source": [
        "blur = cv2.blur(img,(5,5))\n",
        "showbgr((blur))"
      ],
      "execution_count": null,
      "outputs": []
    },
    {
      "cell_type": "code",
      "metadata": {
        "id": "vNwstZtRHnYn",
        "colab_type": "code",
        "colab": {}
      },
      "source": [
        "gauss_blur = cv2.GaussianBlur(img,(5,5),3)\n",
        "showbgr((gauss_blur))"
      ],
      "execution_count": null,
      "outputs": []
    },
    {
      "cell_type": "code",
      "metadata": {
        "id": "LlVnZlBkHvvP",
        "colab_type": "code",
        "colab": {}
      },
      "source": [
        "blur = cv2.medianBlur(img,5)\n",
        "showbgr((blur))"
      ],
      "execution_count": null,
      "outputs": []
    },
    {
      "cell_type": "code",
      "metadata": {
        "id": "wThNmNLgH1t4",
        "colab_type": "code",
        "colab": {}
      },
      "source": [
        "bil_blur = cv2.bilateralFilter(img,5,75,75)\n",
        "showbgr((bil_blur))"
      ],
      "execution_count": null,
      "outputs": []
    },
    {
      "cell_type": "code",
      "metadata": {
        "id": "PgBQbhbjIO_c",
        "colab_type": "code",
        "colab": {}
      },
      "source": [
        "kernel = np.array([[-1,-1,-1], \n",
        "                   [-1, 9,-1],\n",
        "                   [-1,-1,-1]])\n",
        "sharp = cv2.filter2D(blur, -1, kernel)\n",
        "showbgr(sharp)"
      ],
      "execution_count": null,
      "outputs": []
    },
    {
      "cell_type": "code",
      "metadata": {
        "id": "bxHgKPrAIY2i",
        "colab_type": "code",
        "colab": {}
      },
      "source": [
        "kernel = np.array([[-1,-1,-1], \n",
        "                   [-1, 9,-1],\n",
        "                   [-1,-1,-1]])\n",
        "sharp = cv2.filter2D(blur, -1, kernel)\n",
        "showbgr(sharp)"
      ],
      "execution_count": null,
      "outputs": []
    },
    {
      "cell_type": "code",
      "metadata": {
        "id": "9FFwDGOfIpK5",
        "colab_type": "code",
        "colab": {}
      },
      "source": [
        "sharp = cv2.addWeighted(blur, 1.5, gauss_blur, -0.5, 0)\n",
        "showbgr(sharp)"
      ],
      "execution_count": null,
      "outputs": []
    },
    {
      "cell_type": "markdown",
      "metadata": {
        "id": "X4iNr9jZFYsj",
        "colab_type": "text"
      },
      "source": [
        "# Brightness and contrast"
      ]
    },
    {
      "cell_type": "code",
      "metadata": {
        "id": "nC6PrZT4FNpt",
        "colab_type": "code",
        "colab": {}
      },
      "source": [
        "img = cv2.imread('Image/bright.jpeg')\n",
        "showbgr(img)"
      ],
      "execution_count": null,
      "outputs": []
    },
    {
      "cell_type": "code",
      "metadata": {
        "id": "owlKE_e0F6nv",
        "colab_type": "code",
        "colab": {}
      },
      "source": [
        "alpha = 1.4\n",
        "beta = 100\n",
        "res = np.clip((img*alpha + beta), 0,255).astype('uint8')\n",
        "showbgr(res)"
      ],
      "execution_count": null,
      "outputs": []
    },
    {
      "cell_type": "markdown",
      "metadata": {
        "id": "YRNtJ1WjKlSn",
        "colab_type": "text"
      },
      "source": [
        "# Simple feature extraction"
      ]
    },
    {
      "cell_type": "code",
      "metadata": {
        "id": "qh7GmTlqLbj6",
        "colab_type": "code",
        "colab": {}
      },
      "source": [
        "img = cv2.imread('Image/meo.jpeg')\n",
        "showbgr(img)"
      ],
      "execution_count": null,
      "outputs": []
    },
    {
      "cell_type": "code",
      "metadata": {
        "id": "sDxELFNULugt",
        "colab_type": "code",
        "colab": {}
      },
      "source": [
        "gray = cv2.cvtColor(img,cv2.COLOR_BGR2GRAY)\n",
        "showgray(gray)"
      ],
      "execution_count": null,
      "outputs": []
    },
    {
      "cell_type": "code",
      "metadata": {
        "id": "-wUEPFszL0ha",
        "colab_type": "code",
        "colab": {}
      },
      "source": [
        "threshold = 127\n",
        "ret,th1 = cv2.threshold(gray,threshold,255,cv2.THRESH_BINARY) \n",
        "showgray(th1)"
      ],
      "execution_count": null,
      "outputs": []
    },
    {
      "cell_type": "code",
      "metadata": {
        "id": "j2lpkwYBMDNN",
        "colab_type": "code",
        "colab": {}
      },
      "source": [
        "kernel = 11\n",
        "# Apaptive thresh mean\n",
        "th2 = cv2.adaptiveThreshold(gray,255,cv2.ADAPTIVE_THRESH_MEAN_C,\\\n",
        "        cv2.THRESH_BINARY,kernel,2) \n",
        "showgray(th2)"
      ],
      "execution_count": null,
      "outputs": []
    },
    {
      "cell_type": "code",
      "metadata": {
        "id": "gtITRlvZMTiU",
        "colab_type": "code",
        "colab": {}
      },
      "source": [
        "kernel = 11\n",
        "# Adaptive gaussian\n",
        "th3 = cv2.adaptiveThreshold(gray,255,cv2.ADAPTIVE_THRESH_GAUSSIAN_C,\\\n",
        "            cv2.THRESH_BINARY,kernel,2)\n",
        "showgray(th3)"
      ],
      "execution_count": null,
      "outputs": []
    },
    {
      "cell_type": "code",
      "metadata": {
        "id": "sa3OxkhHMnCd",
        "colab_type": "code",
        "colab": {}
      },
      "source": [
        "plot_hist(th3,'k')"
      ],
      "execution_count": null,
      "outputs": []
    },
    {
      "cell_type": "code",
      "metadata": {
        "id": "N1avnS-0NAEy",
        "colab_type": "code",
        "colab": {}
      },
      "source": [
        "uni, cnt = np.unique(th3, return_counts=True)\n",
        "print(uni,cnt)"
      ],
      "execution_count": null,
      "outputs": []
    },
    {
      "cell_type": "code",
      "metadata": {
        "id": "1wlWtnDvNVyy",
        "colab_type": "code",
        "colab": {}
      },
      "source": [
        "# img = cv.imread('bird.jpg')\n",
        "edged = cv2.Canny(th1, 80, 200)\n",
        "showgray(edged)"
      ],
      "execution_count": null,
      "outputs": []
    },
    {
      "cell_type": "code",
      "metadata": {
        "id": "dAnUcDp1Oa8Z",
        "colab_type": "code",
        "colab": {}
      },
      "source": [
        "gray = cv2.imread('Image/Sodoku.jpeg',0)\n",
        "showgray(gray)\n",
        "blur = cv2.GaussianBlur(gray,(5,5),3)"
      ],
      "execution_count": null,
      "outputs": []
    },
    {
      "cell_type": "code",
      "metadata": {
        "id": "qVJUtsFgOqeH",
        "colab_type": "code",
        "colab": {}
      },
      "source": [
        "kernel = 11\n",
        "th4 = cv2.adaptiveThreshold(blur,255,cv2.ADAPTIVE_THRESH_GAUSSIAN_C,\\\n",
        "            cv2.THRESH_BINARY_INV,kernel,2)\n",
        "showgray(th4)"
      ],
      "execution_count": null,
      "outputs": []
    },
    {
      "cell_type": "code",
      "metadata": {
        "id": "S4gYEJJ0PQsO",
        "colab_type": "code",
        "colab": {}
      },
      "source": [
        "edges = cv2.Canny(th4,100,200)\n",
        "plt.imshow(edges,'gray'),plt.axis('off')\n",
        "plt.show()"
      ],
      "execution_count": null,
      "outputs": []
    },
    {
      "cell_type": "code",
      "metadata": {
        "id": "qkRg2m_8PIMt",
        "colab_type": "code",
        "colab": {}
      },
      "source": [
        "lines = cv2.HoughLines(th4,1,np.pi/180,230)\n",
        "#Create a copy\n",
        "img_copy=np.copy(gray)\n",
        "\n",
        "for line in lines:\n",
        "    rho,theta = line[0]\n",
        "    a = np.cos(theta)\n",
        "    b = np.sin(theta)\n",
        "    x0 = a*rho\n",
        "    y0 = b*rho\n",
        "    x1 = int(x0 + 1000*(-b))\n",
        "    y1 = int(y0 + 1000*(a))\n",
        "    x2 = int(x0 - 1000*(-b))\n",
        "    y2 = int(y0 - 1000*(a))\n",
        "    cv2.line(img_copy,(x1,y1),(x2,y2),(0,0,255),2)\n",
        "showgray(img_copy)"
      ],
      "execution_count": null,
      "outputs": []
    }
  ]
}